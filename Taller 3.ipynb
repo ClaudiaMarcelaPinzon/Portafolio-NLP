{
 "cells": [
  {
   "cell_type": "markdown",
   "metadata": {},
   "source": [
    "# Claudia Pinzón\n",
    "# Taller #3: Web Scraping\n"
   ]
  },
  {
   "cell_type": "markdown",
   "metadata": {},
   "source": [
    "# Punto 1:\n",
    "\n",
    "- `[15 pts]` Hacer Web Scraping de 10 animales en Wikipedia (en búcle)\n",
    "- `[10 pts]` Obtener el **encabezado** de cada animal\n",
    "- `[15 pts]` Obtener todos los **textos** que están en las etiquetas de negrilla."
   ]
  },
  {
   "cell_type": "code",
   "execution_count": 1,
   "metadata": {},
   "outputs": [],
   "source": [
    "import bs4 as bs \n",
    "import urllib.request"
   ]
  },
  {
   "cell_type": "code",
   "execution_count": 2,
   "metadata": {},
   "outputs": [
    {
     "name": "stdout",
     "output_type": "stream",
     "text": [
      "Requirement already satisfied: beautifulsoup4 in c:\\users\\eliza\\anaconda3\\lib\\site-packages (4.9.3)\n",
      "Requirement already satisfied: soupsieve>1.2; python_version >= \"3.0\" in c:\\users\\eliza\\anaconda3\\lib\\site-packages (from beautifulsoup4) (2.0.1)\n",
      "Note: you may need to restart the kernel to use updated packages.\n"
     ]
    }
   ],
   "source": [
    "pip install beautifulsoup4"
   ]
  },
  {
   "cell_type": "code",
   "execution_count": 3,
   "metadata": {},
   "outputs": [
    {
     "name": "stdout",
     "output_type": "stream",
     "text": [
      "Requirement already satisfied: lxml in c:\\users\\eliza\\anaconda3\\lib\\site-packages (4.6.1)\n",
      "Note: you may need to restart the kernel to use updated packages.\n"
     ]
    }
   ],
   "source": [
    "pip install lxml"
   ]
  },
  {
   "cell_type": "code",
   "execution_count": 4,
   "metadata": {},
   "outputs": [
    {
     "name": "stdout",
     "output_type": "stream",
     "text": [
      "<html><body><p>This is <b>invalid HTML</b></p></body></html>\n"
     ]
    }
   ],
   "source": [
    "from bs4 import BeautifulSoup\n",
    "soup = BeautifulSoup(\"<html><p>This is <b>invalid HTML</p></html>\", \"lxml\")\n",
    "print(soup)"
   ]
  },
  {
   "cell_type": "code",
   "execution_count": 21,
   "metadata": {},
   "outputs": [
    {
     "name": "stdout",
     "output_type": "stream",
     "text": [
      "Felis silvestris catus\n",
      "Vultur gryphus\n",
      "Camelus\n",
      "Aves\n",
      "Balaenidae\n",
      "Equus ferus caballus\n",
      "Oryctolagus cuniculus\n",
      "Phocidae\n",
      "Crocodilia\n",
      "Ornithorhynchus anatinus\n"
     ]
    }
   ],
   "source": [
    "# Encabezado de cada página\n",
    "\n",
    "a = 'Felis_silvestris_catus'\n",
    "b = 'Vultur_gryphus'\n",
    "c = 'Camelus'\n",
    "d = 'Aves'\n",
    "e = 'Balaenidae'\n",
    "f = 'Equus_ferus_caballus'\n",
    "g = 'Oryctolagus_cuniculus'\n",
    "h = 'Phocidae'\n",
    "i = 'Crocodilia'\n",
    "j = 'Ornithorhynchus_anatinus'\n",
    "\n",
    "web_animals = [a, b, c, d, e, f, g, h, i, j]\n",
    "\n",
    "for x in web_animals:\n",
    "\n",
    "    enlace = ('https://es.wikipedia.org/wiki/' + x)\n",
    "    soup = BeautifulSoup(urllib.request.urlopen(enlace))\n",
    "    print (soup.h1.string)"
   ]
  },
  {
   "cell_type": "code",
   "execution_count": 49,
   "metadata": {},
   "outputs": [
    {
     "name": "stdout",
     "output_type": "stream",
     "text": [
      "F. s. catus\n",
      "gato doméstico\n",
      "Felis silvestris catus\n",
      "gato\n",
      "minino\n",
      "michino\n",
      "michi\n",
      "micho\n",
      "mizo\n",
      "miz\n",
      "morroño\n",
      "\n",
      "Vultur\n",
      "Vultur gryphus\n",
      "cóndor andino\n",
      "cóndor de los Cerros\n",
      "cóndor de los Andes\n",
      "cóndor\n",
      "Vultur gryphus\n",
      "El cóndor pasa…\n",
      "El cóndor herido\n",
      "Condor Mallku\n",
      "Condorito\n",
      "\n",
      "Camelus\n",
      "Camelus\n",
      "camellos\n",
      "dromedarios\n",
      "Camelus\n",
      "Camelus\n",
      "Proyectos Wikimedia\n",
      "Identificadores\n",
      "Diccionarios y enciclopedias\n",
      "Bases de datos taxonómicas\n",
      "Identificadores médicos\n",
      "\n",
      "Aves\n",
      "aves\n",
      "Aves\n",
      "Aves\n",
      "Aves\n",
      "Subclase Neornithes \n",
      "11\n",
      "a\n",
      "b\n",
      "c\n",
      "d\n",
      "\n",
      "Balaenidae\n",
      "balénidos\n",
      "Balaenidae\n",
      "ballena\n",
      "Género\n",
      "Especie\n",
      "Nombre común\n",
      "a\n",
      "b\n",
      "Balaenidae\n",
      "Balaenidae\n",
      "\n",
      "E. f. caballus\n",
      "caballo\n",
      "Equus ferus caballus\n",
      "yegua\n",
      "potros\n",
      "potrillos\n",
      "potras\n",
      "potrancas\n",
      "Alazán\n",
      "Albino\n",
      "Bayo\n",
      "\n",
      "O. cuniculus\n",
      "conejo común\n",
      "conejo europeo \n",
      "Oryctolagus cuniculus\n",
      "cunicultura\n",
      "producción cunícola\n",
      "Neerlandés enano\n",
      "Belier enano\n",
      "Belier miniatura\n",
      "Cabeza de león\n",
      "Polish\n",
      "\n",
      "Phocidae\n",
      "fócidos\n",
      "focas verdaderas\n",
      "Phocidae\n",
      "Familia Phocidae\n",
      "Subfamilia Monachinae\n",
      "Tribu Monachini\n",
      "Tribu Miroungini\n",
      "Tribu Lobodontini\n",
      "Subfamilia Phocinae\n",
      "Tribu Phocini\n",
      "\n",
      "Crocodilia\n",
      "crocodilios\n",
      "Crocodilia\n",
      "cocodrilos\n",
      "gaviales\n",
      "aligátores\n",
      "caimanes\n",
      "Crocodilia\n",
      "Crocodilia\n",
      "a\n",
      "b\n",
      "\n",
      "O. anatinus\n",
      "ornitorrinco\n",
      "Ornithorhynchus anatinus\n",
      "Dimensiones promedio\n",
      "a\n",
      "b\n",
      "c\n",
      "d\n",
      "e\n",
      "a\n",
      "b\n",
      "\n"
     ]
    }
   ],
   "source": [
    "# Texto en negrita de cada página \n",
    "\n",
    "for x in web_animals:\n",
    "\n",
    "    enlace = ('https://es.wikipedia.org/wiki/' + x)\n",
    "    soup = (BeautifulSoup(urllib.request.urlopen(enlace)))\n",
    "    \n",
    "    title = (soup.select('p')[0].text.strip())\n",
    "    \n",
    "    for x in range(11):\n",
    "        w = ((soup.find_all('b')[x + 0]).getText())\n",
    "        print (w)\n",
    "    \n",
    "    print(s)\n",
    "    s = ''"
   ]
  },
  {
   "cell_type": "markdown",
   "metadata": {},
   "source": [
    "# Punto 2:\n",
    "- `[10 pts]` Usando regex, reemplazar todas las tíldes del punto anterior por un asterisco (¡Ojo, los espacios se quedan!)\n"
   ]
  },
  {
   "cell_type": "code",
   "execution_count": 34,
   "metadata": {},
   "outputs": [],
   "source": [
    "# Librerías\n",
    "\n",
    "import re\n",
    "import unicodedata\n",
    "from unicodedata import normalize"
   ]
  },
  {
   "cell_type": "code",
   "execution_count": 50,
   "metadata": {},
   "outputs": [
    {
     "name": "stdout",
     "output_type": "stream",
     "text": [
      "F. s. catus\n",
      "gato dom*stico\n",
      "Felis silvestris catus\n",
      "gato\n",
      "minino\n",
      "michino\n",
      "michi\n",
      "micho\n",
      "mizo\n",
      "miz\n",
      "morroño\n",
      "Vultur\n",
      "Vultur gryphus\n",
      "c*ndor andino\n",
      "c*ndor de los Cerros\n",
      "c*ndor de los Andes\n",
      "c*ndor\n",
      "Vultur gryphus\n",
      "El c*ndor pasa…\n",
      "El c*ndor herido\n",
      "Condor Mallku\n",
      "Condorito\n",
      "Camelus\n",
      "Camelus\n",
      "camellos\n",
      "dromedarios\n",
      "Camelus\n",
      "Camelus\n",
      "Proyectos Wikimedia\n",
      "Identificadores\n",
      "Diccionarios y enciclopedias\n",
      "Bases de datos taxon*micas\n",
      "Identificadores m*dicos\n",
      "Aves\n",
      "aves\n",
      "Aves\n",
      "Aves\n",
      "Aves\n",
      "Subclase Neornithes \n",
      "11\n",
      "a\n",
      "b\n",
      "c\n",
      "d\n",
      "Balaenidae\n",
      "bal*nidos\n",
      "Balaenidae\n",
      "ballena\n",
      "G*nero\n",
      "Especie\n",
      "Nombre com*n\n",
      "a\n",
      "b\n",
      "Balaenidae\n",
      "Balaenidae\n",
      "E. f. caballus\n",
      "caballo\n",
      "Equus ferus caballus\n",
      "yegua\n",
      "potros\n",
      "potrillos\n",
      "potras\n",
      "potrancas\n",
      "Alaz*n\n",
      "Albino\n",
      "Bayo\n",
      "O. cuniculus\n",
      "conejo com*n\n",
      "conejo europeo \n",
      "Oryctolagus cuniculus\n",
      "cunicultura\n",
      "producci*n cun*cola\n",
      "Neerland*s enano\n",
      "Belier enano\n",
      "Belier miniatura\n",
      "Cabeza de le*n\n",
      "Polish\n",
      "Phocidae\n",
      "f*cidos\n",
      "focas verdaderas\n",
      "Phocidae\n",
      "Familia Phocidae\n",
      "Subfamilia Monachinae\n",
      "Tribu Monachini\n",
      "Tribu Miroungini\n",
      "Tribu Lobodontini\n",
      "Subfamilia Phocinae\n",
      "Tribu Phocini\n",
      "Crocodilia\n",
      "crocodilios\n",
      "Crocodilia\n",
      "cocodrilos\n",
      "gaviales\n",
      "alig*tores\n",
      "caimanes\n",
      "Crocodilia\n",
      "Crocodilia\n",
      "a\n",
      "b\n",
      "O. anatinus\n",
      "ornitorrinco\n",
      "Ornithorhynchus anatinus\n",
      "Dimensiones promedio\n",
      "a\n",
      "b\n",
      "c\n",
      "d\n",
      "e\n",
      "a\n",
      "b\n"
     ]
    }
   ],
   "source": [
    "# Modificación de caracteres\n",
    "\n",
    "Caracteres = 'áéíóú'\n",
    "\n",
    "for x in web_animals:\n",
    "\n",
    "    enlace = ('https://es.wikipedia.org/wiki/' + x)\n",
    "    soup = BeautifulSoup(urllib.request.urlopen(enlace))\n",
    "    title = soup.select('p')[0].text.strip()\n",
    "\n",
    "    for x in range(11):\n",
    "        w = ((soup.find_all('b')[x + 0]).getText())\n",
    "        \n",
    "        for cambio in Caracteres:\n",
    "            w = w.replace(cambio, '*')\n",
    "    \n",
    "        print(w)"
   ]
  },
  {
   "cell_type": "code",
   "execution_count": null,
   "metadata": {},
   "outputs": [],
   "source": []
  }
 ],
 "metadata": {
  "kernelspec": {
   "display_name": "Python 3",
   "language": "python",
   "name": "python3"
  },
  "language_info": {
   "codemirror_mode": {
    "name": "ipython",
    "version": 3
   },
   "file_extension": ".py",
   "mimetype": "text/x-python",
   "name": "python",
   "nbconvert_exporter": "python",
   "pygments_lexer": "ipython3",
   "version": "3.8.5"
  }
 },
 "nbformat": 4,
 "nbformat_minor": 2
}

#Notas:
#El punto No. 1 fue realizado con la colaboración de Jhon Alexander Rubiano
